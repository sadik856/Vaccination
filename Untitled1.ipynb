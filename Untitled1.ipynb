{
  "metadata": {
    "language_info": {
      "codemirror_mode": {
        "name": "python",
        "version": 3
      },
      "file_extension": ".py",
      "mimetype": "text/x-python",
      "name": "python",
      "nbconvert_exporter": "python",
      "pygments_lexer": "ipython3",
      "version": "3.8"
    },
    "kernelspec": {
      "name": "python",
      "display_name": "Python (Pyodide)",
      "language": "python"
    }
  },
  "nbformat_minor": 4,
  "nbformat": 4,
  "cells": [
    {
      "cell_type": "code",
      "source": "{ \n    \"cells\": \n    [ \n        { \"cell_type\": \"code\", \n         \"execution_count\": 5, \n         \"metadata\": {}, \n         \"outputs\": [], \n         \"source\": [ \n             \"import requests\\n\", \n             \"import datetime\\n\", \n             \"import json\\n\", \n             \"import pandas as pd\\n\", \n             \"from fake_useragent import UserAgent\" \n         ] \n        }, \n        { \n            \"cell_type\": \"code\", \n            \"execution_count\": 17,\n            \"metadata\": {}, \n            \"outputs\": [], \n            \"source\": [ \n                \"temp_user_agent = UserAgent()\\n\", \n                \"browser_header = {'User-Agent': temp_user_agent.random}\" \n            ] \n        }, \n        { \n            \"cell_type\": \"code\", \n            \"execution_count\": 18, \n            \"metadata\": { \n                \"scrolled\":false, \n                \"tags\": [] \n            }, \n            \"outputs\": \n            [\n                { \"output_type\": \"stream\", \"name\": \n                 \"stdout\", \"text\": \n                 [ \n                     \"State code: 1\\n\", \n                     \"1 \\t Anantapur\\n\", \n                     \"2 \\t Chittoor\\n\", \n                     \"3 \\t Guntur\\n\", \n                     \"4 \\t Krishna\\n\", \n                     \"5 \\t Kurnool\\n\", \n                     \"\\n\", \"\\n\", \n                 ] \n                } \n            ], \n            \"source\": \n            [ \n                \"for state_code in range(1,40):\\n\", \n                \" print(\\\"State code: \\\", state_code)\\n\", \n                \" response = requests.get(\\\"https://cdn-api.co-vin.in/api/v2/admin/location/districts/{}\\\".format(state_code), headers=browser_header)\\n\", \n                \" json_data = json.loads(response.text)\\n\", \n                \" for i in json_data[\\\"districts\\\"]:\\n\", \n                \" print(i[\\\"district_id\\\"],'\\\\t', i[\\\"district_name\\\"])\\n\", \n                \" print(\\\"\\\\n\\\")\" \n            ] \n        }, \n        { \n            \"cell_type\": \"code\", \n            \"execution_count\": 19, \n            \"metadata\": {}, \n            \"outputs\": [], \n            \"source\": [ \n                \"DIST_ID = 392 # Thane\\n\", \n                \"# DIST_ID = 395 # Mumbai\\n\", \n                \"# DIST_ID = 706 #Pithoragarh\\n\", \n                \"\\n\", \n                \"# Print available centre description (y/n)?\\n\", \n                \"print_flag = 'y'\\n\", \n                \"\\n\", \n                \"numdays = 20\\n\", \n                \"age = 55\" \n            ] \n        },\n        { \n            \"cell_type\": \"code\", \n            \"execution_count\": 20, \n            \"metadata\": {}, \n            \"outputs\": [], \n            \"source\": [ \n                \"base = datetime.datetime.today()\\n\", \n                \"date_list = [base + datetime.timedelta(days=x) for x in range(numdays)]\\n\", \n                \"date_str = [x.strftime(\\\"%d-%m-%Y\\\") for x in date_list]\" \n            ] \n        },\n        { \n            \"cell_type\": \"code\", \n            \"execution_count\": 21, \n            \"metadata\": { \n                \"scrolled\": \n                \"tags\": [] \n            }, \n            \"outputs\": [ \n                \"No available slots on 28-11-2022\\n\", \n                \"No available slots on 30-11-2022\\n\", \n                \"No available slots on 31-11-2022\\n\", \n                \"No available slots on 03-12-2022\\n\" \n            ], \n            \"source\": [ \n                \"for INP_DATE in date_str:\\n\", \n                \" URL = \\\"https://cdn-api.co-vin.in/api/v2/appointment/calendarByDistrict?district_id={}&date={}\\\".format(DIST_ID, INP_DATE)\\n\", \n                \" response = requests.get(URL, headers=browser_header)\\n\", \n                \" if response.ok:\\n\", \n                \" resp_json = response.json()\\n\", \n                \" # print(json.dumps(resp_json, indent = 1))\\n\", \n                \" if resp_json[\\\"centers\\\"]:\\n\", \n                \" print(\\\"Available on: {}\\\".format(INP_DATE))\\n\", \n                \" if(print_flag=='y' or print_flag=='Y'):\\n\", \n                \" for center in resp_json[\\\"centers\\\"]:\\n\", \n                \" for session in center[\\\"sessions\\\"]:\\n\", \n                \" print(\\\"\\\\t Available Capacity: \\\", session[\\\"available_capacity\\\"])\\n\", \n                \" if(session[\\\"vaccine\\\"] != ''):\\n\", \n                \" print(\\\"\\\\t Vaccine: \\\", session[\\\"vaccine\\\"])\\n\", \n                \" print(\\\"\\\\n\\\\n\\\")\\n\", \n                \" \\n\", \n                \" \\n\", \n                \" \\n\", \n                \" else:\\n\", \n                \" print(\\\"No available slots on {}\\\".format(INP_DATE))\\n\", \n                \" \" \n            ] \n        }, \n        { \n            \"cell_type\": \"code\", \n            \"execution_count\": null, \n            \"metadata\": {}, \n            \"outputs\": [], \n            \"source\": [] \n        } \n    ], \n       \"metadata\" : {\n          \"kernelspec\": {\n       \"name\": \"python388jvsc74a57bd02ce8fec1cf4dcc7dd9cbdf77a223debd6027167d8a5c414a7fa1d412b50fa596\",\n       \"display_name\": \"Python 3.8.8 64-bit ('vaccine': conda)\"\n  },\n  \"language_info\": {\n   \"codemirror_mode\": {\n    \"name\": \"ipython\",\n    \"version\": 3\n   },\n   \"file_extension\": \".py\",\n   \"mimetype\": \"text/x-python\",\n   \"name\": \"python\",\n   \"nbconvert_exporter\": \"python\",\n   \"pygments_lexer\": \"ipython3\",\n   \"version\": \"3.8.8\"\n  }\n },\n \"nbformat\": 4,\n \"nbformat_minor\": 4\n}",
      "metadata": {
        "trusted": true
      },
      "execution_count": 15,
      "outputs": [
        {
          "ename": "<class 'SyntaxError'>",
          "evalue": "expression expected after dictionary key and ':' (<ipython-input-15-1a88c599c657>, line 90)",
          "traceback": [
            "\u001b[0;36m  Cell \u001b[0;32mIn[15], line 90\u001b[0;36m\u001b[0m\n\u001b[0;31m    \"metadata\": {\u001b[0m\n\u001b[0m              ^\u001b[0m\n\u001b[0;31mSyntaxError\u001b[0m\u001b[0;31m:\u001b[0m expression expected after dictionary key and ':'\n"
          ],
          "output_type": "error"
        }
      ]
    },
    {
      "cell_type": "code",
      "source": "",
      "metadata": {},
      "execution_count": null,
      "outputs": []
    },
    {
      "cell_type": "code",
      "source": "",
      "metadata": {},
      "execution_count": null,
      "outputs": []
    }
  ]
}